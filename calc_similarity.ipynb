{
 "cells": [
  {
   "cell_type": "code",
   "execution_count": 3,
   "metadata": {},
   "outputs": [
    {
     "name": "stderr",
     "output_type": "stream",
     "text": [
      "/home/devuser/nlyalyus/env/lm-eval-repro/lib/python3.8/site-packages/transformers/models/auto/tokenization_auto.py:655: FutureWarning: The `use_auth_token` argument is deprecated and will be removed in v5 of Transformers.\n",
      "  warnings.warn(\n",
      "Special tokens have been added in the vocabulary, make sure the associated word embeddings are fine-tuned or trained.\n"
     ]
    }
   ],
   "source": [
    "from transformers import AutoTokenizer\n",
    "model = '/home/devuser/nlyalyus/projects/lm-evaluation-harness/cache/stable-zephyr-3b-dpo/fp16'\n",
    "tokenizer = AutoTokenizer.from_pretrained(\n",
    "        model,\n",
    "        revision=None,\n",
    "        trust_remote_code=True,\n",
    "        use_auth_token=True,\n",
    "        truncation_side=\"left\",\n",
    "        padding_side=\"right\",  # padding on the right is needed to cut off padding in `complete_code`\n",
    "    )"
   ]
  },
  {
   "cell_type": "code",
   "execution_count": 73,
   "metadata": {},
   "outputs": [],
   "source": [
    "s1 = 'Alexander Pushkin (1799-1859) was a Russian poet, playwright, novelist, and essayist who is widely regarded as one of the greatest writers in the Russian language. Pushkin\\'s works are known for their lyrical beauty, social commentary, and exploration of human emotions and experiences. He was a prominent figure in the Romantic movement, which emphasized emotion, individualism, and a sense of nostalgia for the past. Some of Pushkin\\'s most famous works include \\\"\\\"The Bronze Horseman,\\\"\\\" \\\"\\\"The Seagull,\\\"\\\" and \\\"\\\"The Queen of Spades.\\\"\\\" He also wrote poetry, such as \\\"\\\"The Winter Wind\\\"\\\" and \\\"\\\"The Cuckoo,\\\"\\\" as well as essays and reviews. Pushkin\\'s influence on Russian literature and culture cannot be overstated. He is considered a national hero and is celebrated annually on his birthday, which is a public holiday in Russia.'\n",
    "# s2 = 'Alexander Pushkin (1820-1862) was a Russian poet, playwright, and novelist who is widely regarded as the founder of modern Russian literature. Pushkin\\'s works are known for their lyrical beauty, social critique, and exploration of human nature. He was a prominent figure in the Russian Romantic movement, which emphasized emotion, imagination, and individualism. Pushkin\\'s most famous works include the plays \\\"\\\"The Seagull\\\"\\\" and \\\"\\\"Evensong,\\\"\\\" as well as the poems \\\"\\\"The Twelve,\\\"\\\" \\\"\\\"The Cherry Orchard,\\\"\\\" and \\\"\\\"The Bronze Horseman.\\\"\\\" Despite facing censorship and persecution during his lifetime, Pushkin\\'s influence on Russian literature and culture continues to be felt today.'\n",
    "s2 = 'Alexander Pushkin (1799-1854) was a Russian poet, playwright, novelist, and essayist who is widely regarded as one of the greatest writers in the Russian language. Pushkin\\'s works are known for their lyrical beauty, social critique, and exploration of human emotions and experiences. He was a prominent figure in the Romantic movement in Europe and is considered a precursor to the modern Russian literature. Some of Pushkin\\'s most famous works include \"\"The Bronze Horseman,\"\" \"\"The Seagull,\"\" \"\"The Queen of Spades,\"\" and \"\"The Captain\\'s Death Be Not Proud.\"\" Pushkin\\'s life was marked by personal tragedy and political upheaval. He lost his father at a young age and was forced to work as an apprentice to a tailor. He later became a soldier and was seriously injured in battle. Despite his struggles, Pushkin continued to write and became a prominent figure in the Russian literary scene. He was eventually exiled to a remote village for his political beliefs, but his works remained popular and influential long after his death. Today, Pushkin is remembered as one of the most important figures in Russian literature and a symbol of the country\\'s cultural heritage.'\n",
    "\n",
    "# l1 = tokenizer.tokenize(s1, return_tensors=\"pt\")\n",
    "e1 = tokenizer.encode(s1, return_tensors=\"pt\")\n",
    "e2 = tokenizer.encode(s2, return_tensors=\"pt\")\n",
    "# i1 = tokenizer(s1, return_tensors=\"pt\")\n",
    "\n",
    "# t2 = tokenizer.tokenize(s2)"
   ]
  },
  {
   "cell_type": "code",
   "execution_count": 52,
   "metadata": {},
   "outputs": [
    {
     "data": {
      "text/plain": [
       "'Alexander Pushkin (1799-1859) was a Russian poet, playwright, novelist, and essayist who is widely regarded as one of the greatest writers in the Russian language.'"
      ]
     },
     "execution_count": 52,
     "metadata": {},
     "output_type": "execute_result"
    }
   ],
   "source": [
    "s1"
   ]
  },
  {
   "cell_type": "code",
   "execution_count": 74,
   "metadata": {},
   "outputs": [
    {
     "data": {
      "text/plain": [
       "tensor([41736, 36978,  5914,   313,  1166,  1525,    14,  1093,  3046,    10,\n",
       "          369,   247,  7247, 17502,    13, 48605,    13, 42250,    13,   285,\n",
       "        16555,   382,   665,   310,  7561, 12258,   347,   581,   273,   253,\n",
       "         6459, 11597,   275,   253,  7247,  3448,    15, 36978,  5914,   434,\n",
       "         2987,   403,  1929,   323,   616, 12865,  5526, 10763,    13,  2675,\n",
       "        22378,    13,   285, 17947,   273,  1966, 14021,   285,  8450,    15,\n",
       "          754,   369,   247, 11906,  4677,   275,   253,  9916,  6484,  4866,\n",
       "           13,   534, 21947, 12904,    13,  2060,  1204,    13,   285,   247,\n",
       "         3282,   273, 19063, 32836,   323,   253,  2469,    15,  3808,   273,\n",
       "        36978,  5914,   434,   954,  8530,  2987,  2486,  4890,   510, 49134,\n",
       "        27950,  1342,   937,     3,  4890,   510,  1023,   356,   962,   937,\n",
       "            3,   285,  4890,   510, 11628,   273,  2101,  3355, 15653,   754,\n",
       "          671,  4159, 16053,    13,   824,   347,  4890,   510, 17802, 17054,\n",
       "         9739,   285,  4890,   510,   330,  1807,  3288,   937,     3,   347,\n",
       "          973,   347, 30506,   285, 10123,    15, 36978,  5914,   434,  4833,\n",
       "          327,  7247,  6239,   285,  4466,  2550,   320,   689, 33834,    15,\n",
       "          754,   310,  2783,   247,  3872,  8080,   285,   310, 19651, 21051,\n",
       "          327,   521, 14348,    13,   534,   310,   247,  1345, 13319,   275,\n",
       "         7422,    15])"
      ]
     },
     "execution_count": 74,
     "metadata": {},
     "output_type": "execute_result"
    }
   ],
   "source": [
    "e1=e1.squeeze()\n",
    "e2=e2.squeeze()\n",
    "e1"
   ]
  },
  {
   "cell_type": "code",
   "execution_count": 95,
   "metadata": {},
   "outputs": [
    {
     "data": {
      "text/plain": [
       "(41736,\n",
       " 36978,\n",
       " 5914,\n",
       " 313,\n",
       " 1166,\n",
       " 1525,\n",
       " 14,\n",
       " 1093,\n",
       " 3439,\n",
       " 10,\n",
       " 369,\n",
       " 247,\n",
       " 7247,\n",
       " 17502,\n",
       " 13,\n",
       " 48605,\n",
       " 13,\n",
       " 42250,\n",
       " 13,\n",
       " 285,\n",
       " 16555,\n",
       " 382,\n",
       " 665,\n",
       " 310,\n",
       " 7561,\n",
       " 12258,\n",
       " 347,\n",
       " 581,\n",
       " 273,\n",
       " 253,\n",
       " 6459,\n",
       " 11597,\n",
       " 275,\n",
       " 253,\n",
       " 7247,\n",
       " 3448,\n",
       " 15,\n",
       " 36978,\n",
       " 5914,\n",
       " 434,\n",
       " 2987,\n",
       " 403,\n",
       " 1929,\n",
       " 323,\n",
       " 616,\n",
       " 12865,\n",
       " 5526,\n",
       " 10763,\n",
       " 13,\n",
       " 2675,\n",
       " 29254,\n",
       " 13,\n",
       " 285,\n",
       " 17947,\n",
       " 273,\n",
       " 1966,\n",
       " 14021,\n",
       " 285,\n",
       " 8450,\n",
       " 15,\n",
       " 754,\n",
       " 369,\n",
       " 247,\n",
       " 11906,\n",
       " 4677,\n",
       " 275,\n",
       " 253,\n",
       " 9916,\n",
       " 6484,\n",
       " 4866,\n",
       " 275,\n",
       " 3060,\n",
       " 285,\n",
       " 310,\n",
       " 2783,\n",
       " 247,\n",
       " 20379,\n",
       " 281,\n",
       " 253,\n",
       " 4980,\n",
       " 7247,\n",
       " 6239,\n",
       " 15,\n",
       " 3808,\n",
       " 273,\n",
       " 36978,\n",
       " 5914,\n",
       " 434,\n",
       " 954,\n",
       " 8530,\n",
       " 2987,\n",
       " 2486,\n",
       " 4890,\n",
       " 510,\n",
       " 49134,\n",
       " 27950,\n",
       " 1342,\n",
       " 937,\n",
       " 3,\n",
       " 4890,\n",
       " 510,\n",
       " 1023,\n",
       " 356,\n",
       " 962,\n",
       " 937,\n",
       " 3,\n",
       " 4890,\n",
       " 510,\n",
       " 11628,\n",
       " 273,\n",
       " 2101,\n",
       " 3355,\n",
       " 937,\n",
       " 3,\n",
       " 285,\n",
       " 4890,\n",
       " 510,\n",
       " 11918,\n",
       " 434,\n",
       " 14645,\n",
       " 2325,\n",
       " 3105,\n",
       " 2604,\n",
       " 2995,\n",
       " 15653,\n",
       " 36978,\n",
       " 5914,\n",
       " 434,\n",
       " 1495,\n",
       " 369,\n",
       " 7101,\n",
       " 407,\n",
       " 3367,\n",
       " 22820,\n",
       " 285,\n",
       " 3569,\n",
       " 598,\n",
       " 248,\n",
       " 36596,\n",
       " 15,\n",
       " 754,\n",
       " 3663,\n",
       " 521,\n",
       " 3392,\n",
       " 387,\n",
       " 247,\n",
       " 2872,\n",
       " 2363,\n",
       " 285,\n",
       " 369,\n",
       " 6726,\n",
       " 281,\n",
       " 789,\n",
       " 347,\n",
       " 271,\n",
       " 35016,\n",
       " 547,\n",
       " 281,\n",
       " 247,\n",
       " 40637,\n",
       " 15,\n",
       " 754,\n",
       " 1996,\n",
       " 3395,\n",
       " 247,\n",
       " 15796,\n",
       " 285,\n",
       " 369,\n",
       " 10369,\n",
       " 11062,\n",
       " 275,\n",
       " 6680,\n",
       " 15,\n",
       " 9937,\n",
       " 521,\n",
       " 23490,\n",
       " 13,\n",
       " 36978,\n",
       " 5914,\n",
       " 4821,\n",
       " 281,\n",
       " 3630,\n",
       " 285,\n",
       " 3395,\n",
       " 247,\n",
       " 11906,\n",
       " 4677,\n",
       " 275,\n",
       " 253,\n",
       " 7247,\n",
       " 17541,\n",
       " 6200,\n",
       " 15,\n",
       " 754,\n",
       " 369,\n",
       " 6524,\n",
       " 385,\n",
       " 4206,\n",
       " 281,\n",
       " 247,\n",
       " 8905,\n",
       " 7773,\n",
       " 323,\n",
       " 521,\n",
       " 3569,\n",
       " 13379,\n",
       " 13,\n",
       " 533,\n",
       " 521,\n",
       " 2987,\n",
       " 6376,\n",
       " 4633,\n",
       " 285,\n",
       " 20803,\n",
       " 1048,\n",
       " 846,\n",
       " 521,\n",
       " 2471,\n",
       " 15,\n",
       " 11056,\n",
       " 13,\n",
       " 36978,\n",
       " 5914,\n",
       " 310,\n",
       " 12659,\n",
       " 347,\n",
       " 581,\n",
       " 273,\n",
       " 253,\n",
       " 954,\n",
       " 1774,\n",
       " 8442,\n",
       " 275,\n",
       " 7247,\n",
       " 6239,\n",
       " 285,\n",
       " 247,\n",
       " 9484,\n",
       " 273,\n",
       " 253,\n",
       " 2586,\n",
       " 434,\n",
       " 8928,\n",
       " 21904,\n",
       " 15)"
      ]
     },
     "execution_count": 95,
     "metadata": {},
     "output_type": "execute_result"
    }
   ],
   "source": [
    "l2 = tuple(map(lambda x: x.item(), e2))\n",
    "l1 = tuple(map(lambda x: x.item(), e1))\n",
    "l2"
   ]
  },
  {
   "cell_type": "code",
   "execution_count": 98,
   "metadata": {},
   "outputs": [
    {
     "name": "stdout",
     "output_type": "stream",
     "text": [
      "[Match(a=0, b=0, size=8), Match(a=9, b=9, size=41), Match(a=51, b=51, size=19), Match(a=87, b=82, size=24), Match(a=112, b=106, size=6), Match(a=137, b=112, size=2), Match(a=139, b=153, size=1), Match(a=141, b=225, size=1), Match(a=151, b=233, size=3), Match(a=182, b=245, size=0)]\n",
      "(41736, 36978, 5914, 313, 1166, 1525, 14, 1093, 3046)\n",
      "Alexander Pushkin (1799-1859\n",
      "(41736, 36978, 5914, 313, 1166, 1525, 14, 1093, 3439)\n",
      "Alexander Pushkin (1799-1854\n",
      "(10, 369, 247, 7247, 17502, 13, 48605, 13, 42250, 13, 285, 16555, 382, 665, 310, 7561, 12258, 347, 581, 273, 253, 6459, 11597, 275, 253, 7247, 3448, 15, 36978, 5914, 434, 2987, 403, 1929, 323, 616, 12865, 5526, 10763, 13, 2675, 22378)\n",
      ") was a Russian poet, playwright, novelist, and essayist who is widely regarded as one of the greatest writers in the Russian language. Pushkin's works are known for their lyrical beauty, social commentary\n",
      "(10, 369, 247, 7247, 17502, 13, 48605, 13, 42250, 13, 285, 16555, 382, 665, 310, 7561, 12258, 347, 581, 273, 253, 6459, 11597, 275, 253, 7247, 3448, 15, 36978, 5914, 434, 2987, 403, 1929, 323, 616, 12865, 5526, 10763, 13, 2675, 29254)\n",
      ") was a Russian poet, playwright, novelist, and essayist who is widely regarded as one of the greatest writers in the Russian language. Pushkin's works are known for their lyrical beauty, social critique\n",
      "(13, 285, 17947, 273, 1966, 14021, 285, 8450, 15, 754, 369, 247, 11906, 4677, 275, 253, 9916, 6484, 4866, 13)\n",
      ", and exploration of human emotions and experiences. He was a prominent figure in the Romantic movement,\n",
      "(13, 285, 17947, 273, 1966, 14021, 285, 8450, 15, 754, 369, 247, 11906, 4677, 275, 253, 9916, 6484, 4866, 275)\n",
      ", and exploration of human emotions and experiences. He was a prominent figure in the Romantic movement in\n",
      "(15, 3808, 273, 36978, 5914, 434, 954, 8530, 2987, 2486, 4890, 510, 49134, 27950, 1342, 937, 3, 4890, 510, 1023, 356, 962, 937, 3, 285)\n",
      ". Some of Pushkin's most famous works include \"\"The Bronze Horseman,\"\" \"\"The Seagull,\"\" and\n",
      "(15, 3808, 273, 36978, 5914, 434, 954, 8530, 2987, 2486, 4890, 510, 49134, 27950, 1342, 937, 3, 4890, 510, 1023, 356, 962, 937, 3, 4890)\n",
      ". Some of Pushkin's most famous works include \"\"The Bronze Horseman,\"\" \"\"The Seagull,\"\" \"\"\n",
      "(4890, 510, 11628, 273, 2101, 3355, 15653)\n",
      " \"\"The Queen of Spades.\"\"\n",
      "(4890, 510, 11628, 273, 2101, 3355, 937)\n",
      " \"\"The Queen of Spades,\"\n",
      "(937, 3, 347)\n",
      ",\"\" as\n",
      "(937, 3, 285)\n",
      ",\"\" and\n",
      "(347, 973)\n",
      " as well\n",
      "(347, 271)\n",
      " as an\n",
      "(347, 30506)\n",
      " as essays\n",
      "(347, 581)\n",
      " as one\n",
      "(7247, 6239, 285, 4466)\n",
      " Russian literature and culture\n",
      "(7247, 6239, 285, 247)\n",
      " Russian literature and a\n",
      "()\n",
      "\n",
      "()\n",
      "\n"
     ]
    }
   ],
   "source": [
    "from difflib import SequenceMatcher\n",
    "s = SequenceMatcher(None, l1, l2)\n",
    "blocks=s.get_matching_blocks()\n",
    "print(blocks)\n",
    "for block in blocks:\n",
    "    a = block.a\n",
    "    b = block.b\n",
    "    s = block.size\n",
    "    matched = l1[a:a+s+1]\n",
    "    print(matched)\n",
    "    print(tokenizer.decode(matched))\n",
    "    matched = l2[b:b+s+1]\n",
    "    print(matched)\n",
    "    print(tokenizer.decode(matched))\n",
    "    # print(tokenizer.decode(matched, skip_special_tokens=True).replace('\\n', ''))\n"
   ]
  },
  {
   "cell_type": "code",
   "execution_count": 99,
   "metadata": {},
   "outputs": [],
   "source": [
    "a,b,size = blocks[0]"
   ]
  },
  {
   "cell_type": "code",
   "execution_count": 102,
   "metadata": {},
   "outputs": [
    {
     "data": {
      "text/plain": [
       "8"
      ]
     },
     "execution_count": 102,
     "metadata": {},
     "output_type": "execute_result"
    }
   ],
   "source": [
    "size"
   ]
  },
  {
   "cell_type": "code",
   "execution_count": 78,
   "metadata": {},
   "outputs": [
    {
     "data": {
      "text/plain": [
       "0.03747072599531616"
      ]
     },
     "execution_count": 78,
     "metadata": {},
     "output_type": "execute_result"
    }
   ],
   "source": [
    "s = SequenceMatcher(None, e1, e2)\n",
    "s.ratio()"
   ]
  },
  {
   "cell_type": "code",
   "execution_count": 79,
   "metadata": {},
   "outputs": [
    {
     "ename": "TypeError",
     "evalue": "iteration over a 0-d tensor",
     "output_type": "error",
     "traceback": [
      "\u001b[0;31m---------------------------------------------------------------------------\u001b[0m",
      "\u001b[0;31mTypeError\u001b[0m                                 Traceback (most recent call last)",
      "\u001b[1;32m/home/devuser/nlyalyus/projects/lm-evaluation-harness/calc_similarity.ipynb Cell 8\u001b[0m line \u001b[0;36m3\n\u001b[1;32m      <a href='vscode-notebook-cell://ssh-remote%2B7b22686f73744e616d65223a22535052227d/home/devuser/nlyalyus/projects/lm-evaluation-harness/calc_similarity.ipynb#X24sdnNjb2RlLXJlbW90ZQ%3D%3D?line=0'>1</a>\u001b[0m \u001b[39mfrom\u001b[39;00m \u001b[39mdifflib\u001b[39;00m \u001b[39mimport\u001b[39;00m Differ\n\u001b[1;32m      <a href='vscode-notebook-cell://ssh-remote%2B7b22686f73744e616d65223a22535052227d/home/devuser/nlyalyus/projects/lm-evaluation-harness/calc_similarity.ipynb#X24sdnNjb2RlLXJlbW90ZQ%3D%3D?line=1'>2</a>\u001b[0m d \u001b[39m=\u001b[39m Differ()\n\u001b[0;32m----> <a href='vscode-notebook-cell://ssh-remote%2B7b22686f73744e616d65223a22535052227d/home/devuser/nlyalyus/projects/lm-evaluation-harness/calc_similarity.ipynb#X24sdnNjb2RlLXJlbW90ZQ%3D%3D?line=2'>3</a>\u001b[0m diff \u001b[39m=\u001b[39m \u001b[39mlist\u001b[39;49m(d\u001b[39m.\u001b[39;49mcompare(e1, e2))\n\u001b[1;32m      <a href='vscode-notebook-cell://ssh-remote%2B7b22686f73744e616d65223a22535052227d/home/devuser/nlyalyus/projects/lm-evaluation-harness/calc_similarity.ipynb#X24sdnNjb2RlLXJlbW90ZQ%3D%3D?line=3'>4</a>\u001b[0m \u001b[39mfrom\u001b[39;00m \u001b[39mpprint\u001b[39;00m \u001b[39mimport\u001b[39;00m pprint\n\u001b[1;32m      <a href='vscode-notebook-cell://ssh-remote%2B7b22686f73744e616d65223a22535052227d/home/devuser/nlyalyus/projects/lm-evaluation-harness/calc_similarity.ipynb#X24sdnNjb2RlLXJlbW90ZQ%3D%3D?line=4'>5</a>\u001b[0m pprint(diff)\n",
      "File \u001b[0;32m/usr/lib/python3.8/difflib.py:902\u001b[0m, in \u001b[0;36mDiffer.compare\u001b[0;34m(self, a, b)\u001b[0m\n\u001b[1;32m    899\u001b[0m \u001b[39melse\u001b[39;00m:\n\u001b[1;32m    900\u001b[0m     \u001b[39mraise\u001b[39;00m \u001b[39mValueError\u001b[39;00m(\u001b[39m'\u001b[39m\u001b[39munknown tag \u001b[39m\u001b[39m%r\u001b[39;00m\u001b[39m'\u001b[39m \u001b[39m%\u001b[39m (tag,))\n\u001b[0;32m--> 902\u001b[0m \u001b[39myield from\u001b[39;00m g\n",
      "File \u001b[0;32m/usr/lib/python3.8/difflib.py:953\u001b[0m, in \u001b[0;36mDiffer._fancy_replace\u001b[0;34m(self, a, alo, ahi, b, blo, bhi)\u001b[0m\n\u001b[1;32m    951\u001b[0m \u001b[39mfor\u001b[39;00m j \u001b[39min\u001b[39;00m \u001b[39mrange\u001b[39m(blo, bhi):\n\u001b[1;32m    952\u001b[0m     bj \u001b[39m=\u001b[39m b[j]\n\u001b[0;32m--> 953\u001b[0m     cruncher\u001b[39m.\u001b[39;49mset_seq2(bj)\n\u001b[1;32m    954\u001b[0m     \u001b[39mfor\u001b[39;00m i \u001b[39min\u001b[39;00m \u001b[39mrange\u001b[39m(alo, ahi):\n\u001b[1;32m    955\u001b[0m         ai \u001b[39m=\u001b[39m a[i]\n",
      "File \u001b[0;32m/usr/lib/python3.8/difflib.py:279\u001b[0m, in \u001b[0;36mSequenceMatcher.set_seq2\u001b[0;34m(self, b)\u001b[0m\n\u001b[1;32m    277\u001b[0m \u001b[39mself\u001b[39m\u001b[39m.\u001b[39mmatching_blocks \u001b[39m=\u001b[39m \u001b[39mself\u001b[39m\u001b[39m.\u001b[39mopcodes \u001b[39m=\u001b[39m \u001b[39mNone\u001b[39;00m\n\u001b[1;32m    278\u001b[0m \u001b[39mself\u001b[39m\u001b[39m.\u001b[39mfullbcount \u001b[39m=\u001b[39m \u001b[39mNone\u001b[39;00m\n\u001b[0;32m--> 279\u001b[0m \u001b[39mself\u001b[39;49m\u001b[39m.\u001b[39;49m__chain_b()\n",
      "File \u001b[0;32m/usr/lib/python3.8/difflib.py:311\u001b[0m, in \u001b[0;36mSequenceMatcher.__chain_b\u001b[0;34m(self)\u001b[0m\n\u001b[1;32m    308\u001b[0m b \u001b[39m=\u001b[39m \u001b[39mself\u001b[39m\u001b[39m.\u001b[39mb\n\u001b[1;32m    309\u001b[0m \u001b[39mself\u001b[39m\u001b[39m.\u001b[39mb2j \u001b[39m=\u001b[39m b2j \u001b[39m=\u001b[39m {}\n\u001b[0;32m--> 311\u001b[0m \u001b[39mfor\u001b[39;00m i, elt \u001b[39min\u001b[39;00m \u001b[39menumerate\u001b[39;49m(b):\n\u001b[1;32m    312\u001b[0m     indices \u001b[39m=\u001b[39m b2j\u001b[39m.\u001b[39msetdefault(elt, [])\n\u001b[1;32m    313\u001b[0m     indices\u001b[39m.\u001b[39mappend(i)\n",
      "File \u001b[0;32m~/nlyalyus/env/lm-eval-repro/lib/python3.8/site-packages/torch/_tensor.py:930\u001b[0m, in \u001b[0;36mTensor.__iter__\u001b[0;34m(self)\u001b[0m\n\u001b[1;32m    920\u001b[0m \u001b[39mdef\u001b[39;00m \u001b[39m__iter__\u001b[39m(\u001b[39mself\u001b[39m):\n\u001b[1;32m    921\u001b[0m     \u001b[39m# NB: we use 'imap' and not 'map' here, so that in Python 2 we get a\u001b[39;00m\n\u001b[1;32m    922\u001b[0m     \u001b[39m# generator and don't eagerly perform all the indexes.  This could\u001b[39;00m\n\u001b[0;32m   (...)\u001b[0m\n\u001b[1;32m    927\u001b[0m     \u001b[39m# NB: We have intentionally skipped __torch_function__ dispatch here.\u001b[39;00m\n\u001b[1;32m    928\u001b[0m     \u001b[39m# See gh-54457\u001b[39;00m\n\u001b[1;32m    929\u001b[0m     \u001b[39mif\u001b[39;00m \u001b[39mself\u001b[39m\u001b[39m.\u001b[39mdim() \u001b[39m==\u001b[39m \u001b[39m0\u001b[39m:\n\u001b[0;32m--> 930\u001b[0m         \u001b[39mraise\u001b[39;00m \u001b[39mTypeError\u001b[39;00m(\u001b[39m\"\u001b[39m\u001b[39miteration over a 0-d tensor\u001b[39m\u001b[39m\"\u001b[39m)\n\u001b[1;32m    931\u001b[0m     \u001b[39mif\u001b[39;00m torch\u001b[39m.\u001b[39m_C\u001b[39m.\u001b[39m_get_tracing_state():\n\u001b[1;32m    932\u001b[0m         warnings\u001b[39m.\u001b[39mwarn(\n\u001b[1;32m    933\u001b[0m             \u001b[39m\"\u001b[39m\u001b[39mIterating over a tensor might cause the trace to be incorrect. \u001b[39m\u001b[39m\"\u001b[39m\n\u001b[1;32m    934\u001b[0m             \u001b[39m\"\u001b[39m\u001b[39mPassing a tensor of different shape won\u001b[39m\u001b[39m'\u001b[39m\u001b[39mt change the number of \u001b[39m\u001b[39m\"\u001b[39m\n\u001b[0;32m   (...)\u001b[0m\n\u001b[1;32m    938\u001b[0m             stacklevel\u001b[39m=\u001b[39m\u001b[39m2\u001b[39m,\n\u001b[1;32m    939\u001b[0m         )\n",
      "\u001b[0;31mTypeError\u001b[0m: iteration over a 0-d tensor"
     ]
    }
   ],
   "source": [
    "from difflib import Differ\n",
    "d = Differ()\n",
    "diff = list(d.compare(e1, e2))\n",
    "from pprint import pprint\n",
    "pprint(diff)"
   ]
  },
  {
   "cell_type": "code",
   "execution_count": 49,
   "metadata": {},
   "outputs": [
    {
     "data": {
      "text/plain": [
       "'OpenVINO is an open-source software'"
      ]
     },
     "execution_count": 49,
     "metadata": {},
     "output_type": "execute_result"
    }
   ],
   "source": [
    "start = mb[0].a\n",
    "matched = e2[start:start+size]\n",
    "tokenizer.decode(matched)"
   ]
  },
  {
   "cell_type": "code",
   "execution_count": 30,
   "metadata": {},
   "outputs": [
    {
     "name": "stderr",
     "output_type": "stream",
     "text": [
      "/home/devuser/nlyalyus/env/lm-eval-repro/lib/python3.8/site-packages/transformers/models/auto/tokenization_auto.py:655: FutureWarning: The `use_auth_token` argument is deprecated and will be removed in v5 of Transformers.\n",
      "  warnings.warn(\n",
      "Special tokens have been added in the vocabulary, make sure the associated word embeddings are fine-tuned or trained.\n"
     ]
    }
   ],
   "source": [
    "from transformers import AutoTokenizer\n",
    "import pandas as pd\n",
    "\n",
    "ref_file = '/home/devuser/nlyalyus/projects/who_what_benchmark/generations_fp16.csv'\n",
    "cmp_file = '/home/devuser/nlyalyus/projects/who_what_benchmark/generations_int4_g64_nozp_r80_hawq_OUT2.csv'\n",
    "\n",
    "tokenizer = AutoTokenizer.from_pretrained(\n",
    "        model,\n",
    "        revision=None,\n",
    "        trust_remote_code=True,\n",
    "        use_auth_token=True,\n",
    "        truncation_side=\"left\",\n",
    "        padding_side=\"right\",  # padding on the right is needed to cut off padding in `complete_code`\n",
    "    )\n",
    "\n",
    "ref_data = pandas.read_csv(ref_file)\n",
    "cmp_data = pandas.read_csv(cmp_file)"
   ]
  },
  {
   "cell_type": "code",
   "execution_count": 40,
   "metadata": {},
   "outputs": [],
   "source": [
    "# d = ref_data.to_dict()\n",
    "# d = pd.Series(ref_data.questions.values, index=ref_data.answers.values).to_dict()\n",
    "d = dict(zip(ref_data.questions,ref_data.answers))"
   ]
  },
  {
   "cell_type": "code",
   "execution_count": 41,
   "metadata": {},
   "outputs": [
    {
     "data": {
      "text/plain": [
       "{'Who is Mark Twain?': '\\nMark Twain, also known by his pen name Samuel Langhorne, was an American writer, humorist, and lecturer born on November 30, 1835, in Hannibal, Missouri.\\nHe is best known for his novels \"The Adventures of Tom Sawyer\" and \"Adventures of Huckleberry Finn,\" which are considered classics of American literature.\\nTwain\\'s writing style was characterized by his use of satire, irony, and humor to critique society and human behavior.\\nHe died on April 5, 1902, in Redwood City, California.',\n",
       " 'Who is William Shakespeare?': \"\\nWilliam Shakespeare was an English playwright and poet who lived from 1564 to 1616.\\nHe is widely regarded as the greatest playwright of English literature, and his works have had a profound influence on Western culture.\\nShakespeare's plays include Romeo and Juliet, Hamlet, Macbeth, and Othello, among many others.\\nHis works are known for their complex characters, intricate plots, and exploration of themes such as love, power, and betrayal.\\nShakespeare's biography is not well-known, as little is known about his life outside of his literary works.\\nHowever, it is believed that he was born in Stratford-upon-Avon, Warwickshire, England, and that he may have attended the local grammar school.\\nDespite his lack of formal education, Shakespeare is known for his mastery of language and his ability to create complex, believable characters.\\nToday, Shakespeare's works continue to be performed and studied around the world, and his influence on literature and culture cannot be overstated.\",\n",
       " 'Who is Agatha Christie?': \"\\nAgatha Christie, born as Agatha Mary Clarisse Miller, was a British novelist, short story writer, and playwright.\\nShe is best known for her 66 detective novels and short story collections, which have sold over two billion copies worldwide and have been translated into over 240 languages.\\nChristie's most famous detective series features Hercule Poirot, a Belgian detective with exceptional powers of observation and deduction.\\nShe also created the character of Miss Marple, an elderly woman who solves crimes in her village.\\nChristie's works have had a significant influence on popular culture, including literature, film, television, and theater.\\nShe was the first female novelist to win the prestigious Edgar Award from the Mystery Writers of America and was made a Dame Commander of the British Empire in 1965.\\nToday, Agatha Christie remains one of the best-selling authors of all time and a cultural icon.\",\n",
       " 'Who is Barbara Cartland?': '\\nBarbara Cartland was a British author who wrote more than 600 novels in her career, spanning several genres including romance, historical fiction, and mystery.\\nShe was born in 1916 in Kingston upon Thames, London, and began writing at the age of 50. Her most popular series was the \"Black Diamond\" series, which featured strong heroines and romantic plots set in exotic locations such as the Orient, South America, and Africa.\\nCartland\\'s writing style was often criticized for being formulaic and lacking in originality, but her books remained popular throughout the 20th century and continue to be reprinted today. She died in 2002 in Rye, East Sussex, England.',\n",
       " 'Who is Danielle Steel?': \"\\nDanielle Steel is a prolific American author who has written numerous novels in various genres, including romance, thriller, and women's fiction.\\nShe was born on November 6, 1954, in Washington, D.C., and grew up in Maryland. She graduated from the University of Maryland with a degree in English and a minor in psychology.\\nDanielle Steel is best known for her romantic novels, which often feature wealthy, glamorous, and older protagonists. Her books have sold millions of copies worldwide and have been translated into dozens of languages.\\nIn addition to her writing career, Danielle Steel is also a successful real estate investor and a philanthropist who supports various causes, including literacy and animal welfare.\",\n",
       " 'Who is Harold Robbins?': '\\nHarold Robbins was an American writer, best known for his novels about adventure, espionage, and science fiction.\\nHe was born on March 3, 1924, in Des Moines, Iowa, and served in the U.S. Army during World War II. After the war, he worked as a journalist for various publications, including the Des Moines Register and the Chicago Daily News.\\nRobbins began writing novels in the late 1940s, and his early works focused on the themes of adventure and espionage. Some of his most famous novels include \"The Cimarron Star\" (1952), \"The Daybreak Encounter\" (1957), and \"The Broken Sword\" (1960).\\nRobbins died on August 10, 2007, in Maryland, and left behind a legacy of thrilling novels that continue to captivate readers today.',\n",
       " 'Who is Georges Simenon?': '\\nGeorges Simenon (19 October 1888 – 17 October 1989) was a Belgian novelist, playwright, and screenwriter.\\nHe is best known for his Inspector Maigret series, which features a fictional detective from the French police force who solves crimes and mysteries in the French countryside.\\nSimenon began writing at a young age and published his first book, \"La Grande Illusion\" (The Great Illusion), in 1918.\\nHe served in World War I and then worked as a journalist and literary critic before turning to fiction writing.\\nSimenon\\'s works often explore the themes of social justice, human dignity, and the struggle for personal freedom.\\nHe was also a prolific screenwriter, creating works for the Belgian and French film industries.\\nSimenon was awarded numerous honors for his contributions to literature and film, including the Belgian Order of Merit and the French Legion of Honor.\\nHe died in 1989 at the age of 91.',\n",
       " 'Who is Enid Blyton?': '\\nEnid Blyton was a British author who was born on August 11, 1941, in Liverpool, England.\\nShe is best known for her children\\'s books, particularly her \"Famous Five\" and \"Secret Seven\" series, which have been translated into over 40 languages and sold over 500 million copies worldwide.\\nBlyton\\'s books often featured adventures in exotic locations, such as Mallorca, Sri Lanka, and the Amazon, and followed the lives of young girls who faced challenges and overcame them with courage and determination.\\nIn addition to her children\\'s books, Blyton also wrote novels for adults, as well as plays, essays, and articles.\\nBlyton passed away on July 27, 1968, due to leukemia, but her legacy as an influential children\\'s author lives on.',\n",
       " 'Who is Sidney Sheldon?': '\\nSidney Sheldon was a renowned American author who was born on November 22, 1917, in Chicago, Illinois.\\nHe was best known for his mystery and detective novels, which often featured private investigators such as Philip Pulcher and David Raker.\\nSheldon began his writing career as a journalist before turning to fiction in the 1940s. He published his first novel, \"And Then There Were None,\" in 1949, which became a huge success and spawned a popular radio adaptation and a film adaptation.\\nSheldon went on to write more than 50 novels, including \"Farewell, My Lovely,\" \"Case of the Silver Star,\" and \"The Shadow of a Dark Angel.\"\\nHe was also a screenwriter and produced several films, including \"The Big Sleep\" and \"The Asphalt Jungle.\"\\nSheldon died on July 2, 1999, at the age of 81.',\n",
       " 'Who is Akira Toriyama?': '\\nAkira Toriyama is a Japanese manga artist, writer, and illustrator who created the popular anime and manga series, Dragon Ball Z.\\nHe was born on December 23, 1977, in Osaka, Japan. Toriyama began drawing manga when he was in elementary school and started publishing his work in magazines in his teenage years.\\nDragon Ball Z, which began serialization in 1989, quickly became a cultural phenomenon in Japan and around the world. The series has sold over 500 million copies worldwide and has been adapted into numerous films, video games, and TV shows.\\nIn addition to Dragon Ball Z, Toriyama has also created other popular manga series such as Dragon Ball, Uchiha Sensei, and Jitsu wa Watashi wa.\\nOverall, Toriyama is a highly influential figure in the manga and anime industry and is known for his unique artistic style and storytelling abilities.',\n",
       " 'Who is Leo Tolstoy?': '\\nLeo Tolstoy (1828-1910) was a Russian novelist, short story writer, and dramatist.\\nHe is widely regarded as one of the greatest writers in history, and his works continue to be studied and adapted for the stage and screen.\\nTolstoy is best known for his novel \"War and Peace,\" which is considered a masterpiece of historical fiction and one of the largest works in the English language.\\nSome of his other notable works include \"Anna Karenina,\" \"The Death of Ivan Ilyich,\" and \"Resurrection.\"\\nTolstoy was a pacifist and advocated for social justice, and his writings often reflected these values.\\nHe faced censorship and opposition during his lifetime, particularly for his criticism of the Russian government and church.\\nDespite this, Tolstoy continued to write and publish until his death in 1910.',\n",
       " 'Who is Alexander Pushkin?': '\\nAlexander Pushkin (1799-1859) was a Russian poet, playwright, novelist, and essayist who is widely regarded as one of the greatest writers in the Russian language.\\nPushkin\\'s works are known for their lyrical beauty, social commentary, and exploration of human emotions and experiences. He was a prominent figure in the Romantic movement, which emphasized emotion, individualism, and a sense of nostalgia for the past.\\nSome of Pushkin\\'s most famous works include \"The Bronze Horseman,\" \"The Seagull,\" and \"The Queen of Spades.\" He also wrote poetry, such as \"The Winter Wind\" and \"The Cuckoo,\" as well as essays and reviews.\\nPushkin\\'s influence on Russian literature and culture cannot be overstated. He is considered a national hero and is celebrated annually on his birthday, which is a public holiday in Russia.',\n",
       " 'Who is Stephen King?': '\\nStephen King is a well-known American author who has written numerous novels in the horror, science fiction, and fantasy genres.\\nHe was born on September 21, 1947, in Portland, Maine, and grew up in the nearby town of Portland. King\\'s father was a trial lawyer and his mother was a homemaker.\\nKing\\'s writing career began in 1966, when he published his first novel, \"The Shining.\" The novel was a huge success and established King as a master of the horror genre.\\nOver the years, King has written dozens of novels, including \"Carrie,\" \"Misery,\" \"The Stand,\" and \"IT.\" He has also written non-fiction books, screenplays, and teleplays.\\nKing is known for his vivid and often disturbing imagery, as well as his ability to create complex and memorable characters. He has sold over 350 million copies of his books worldwide and has been translated into more than 50 languages.\\nKing continues to write and is still widely regarded as one of the most influential and successful authors of our time.',\n",
       " 'What is C++?': '\\nC++ is a high-level programming language that is used to build various types of software applications.\\nIt is an extension of the C programming language, which was the first high-level programming language to be developed. C++ was designed to address some of the limitations of C, such as the lack of object-oriented programming features.\\nC++ is a powerful language that allows developers to create complex software systems, including operating systems, databases, and web applications. It provides a wide range of features, including classes, objects, inheritance, polymorphism, and exception handling.\\nSome of the popular applications built using C++ include Google Chrome, Adobe Photoshop, and Mozilla Firefox.\\nTo learn more about C++, you can refer to online resources such as tutorials, documentation, and forums.',\n",
       " 'What is Python?': '\\n\\nPython is a high-level, interpreted programming language that was first released in 1989.\\n\\nIt is known for its simplicity, readability, and versatility, which make it a popular choice for a wide range of applications, from web development and data analysis to machine learning and AI.\\n\\nSome key features of Python include:\\n\\n- Easy-to-learn syntax\\n- Strong type checking\\n- Support for multiple programming paradigms, such as procedural, object-oriented, and functional programming\\n- Large standard library, which provides a wide range of useful tools and modules\\n- High degree of compatibility with C and C++, allowing for efficient interoperation with systems written in those languages\\n\\nPython is an open-source language, meaning that it is freely available for use and distribution, and is supported by a large and active community of developers and contributors.',\n",
       " 'What is Java?': '\\n\\nJava is a popular, object-oriented programming language that was first introduced by Sun Microsystems (now Oracle) in 1995.\\n\\nIt is used for developing various types of applications, such as web applications, mobile applications (Android apps), enterprise applications, and more. Java is designed to be platform-independent, which means that code written on a Java Virtual Machine (JVM) on one operating system can run on a JVM on another operating system.\\n\\nThe Java language is part of the Java Development Kit (JDK), which includes the Java compiler (javac), the Java runtime (java), and other tools for developing and deploying Java applications.\\n\\nHere\\'s a simple example of Java code:\\n\\n```java\\npublic class HelloWorld {\\n    public static void main(String[] args) {\\n        System.out.println(\"Hello, World!\");\\n    }\\n}\\n```\\n\\nThis code defines a class named `HelloWorld` with a `main` method, which is the entry point of a Java application. The `System.out.println` statement prints \"Hello, World!\" to the console.',\n",
       " 'What is JavaScript?': '\\n\\nJavaScript is a high-level, interpreted programming language which is used for various purposes such as web development, mobile applications development, server-side scripting, and automation.\\n\\nIn web development, JavaScript is used to create interactive elements on a webpage such as hover effects, animations, and dynamic content loading. It can also be used to validate user inputs, handle user interactions, and communicate with server APIs.\\n\\nIn mobile applications development, JavaScript is used to create native mobile apps that can run on iOS and Android platforms. It can also be used to develop cross-platform mobile apps using frameworks like React Native or Flutter.\\n\\nIn server-side scripting, JavaScript is often used in conjunction with Node.js, a JavaScript runtime environment that allows JavaScript to run on the server-side. This enables developers to use JavaScript for server-side programming, which can be beneficial for tasks such as handling API requests, validating user inputs, and managing server-side state.\\n\\nIn automation, JavaScript can be used to create scripts that automate repetitive tasks or perform complex operations on data. This is often used in testing and QA environments to streamline the testing process and ensure the reliability of software applications.\\n\\nJavaScript is a versatile language that can be used in various contexts and for a wide range of purposes. Its popularity and wide range of available resources make it a popular choice for developers of all skill levels.',\n",
       " 'What is Perl?': \"\\nPerl is a popular, high-level, interpreted programming language that is widely used for web-based applications, such as CGI scripts, web crawlers, and web administrators.\\nPerl was created by Larry Wall in 1987 and is named after the Perloid stone found in the American Southwest. It is a versatile language that can be used for a variety of tasks, including text processing, system administration, and network programming.\\nSome of Perl's key features include:\\n- Support for complex data structures, such as arrays and hashes\\n- Built-in functions for common tasks, such as parsing and manipulating text\\n- Support for regular expressions, which make it easy to work with text data\\n- Integration with other languages and platforms, such as C and Unix systems\\nPerl is often used in conjunction with other technologies, such as Apache web servers and MySQL databases, to create powerful and scalable web applications.\",\n",
       " 'What is OpenCV?': \"\\n\\nOpenCV (Open Source Computer Vision Library) is a popular computer vision library that includes several hundreds of computer vision algorithms implemented in C++, Python, and Java.\\n\\nIt is used for various purposes such as object detection and recognition, image filtering, feature extraction, and machine learning. OpenCV is widely used in robotics, surveillance, autonomous vehicles, and many other applications due to its versatility and high performance.\\n\\nThe project's goal is to create a platform for collaboration and knowledge-sharing within the computer vision community. The library is released under the Apache 2.0 License, which allows users to use, modify, and distribute the library and its dependencies freely.\\n\\nHere's a simple example of using OpenCV in Python for image filtering:\\n\\n```python\\nimport cv2\\n\\n# Load an image\\nimg = cv2.imread('image.jpg')\\n\\n# Convert the image to grayscale\\ngray = cv2.cvtColor(img, cv2.COLOR_BGR2GRAY)\\n\\n# Apply a Gaussian blur to the grayscale image\\nblurred = cv2.GaussianBlur(gray, (5, 5), 0)\\n\\n# Save the blurred image\\ncv2.imwrite('blurred_image.jpg', blurred)\\n```\\n\\nIn this example, we first load an image and convert it to grayscale. Then, we apply a Gaussian blur to the grayscale image using the `cv2.GaussianBlur()` function. Finally, we save the blurred image.\"}"
      ]
     },
     "execution_count": 41,
     "metadata": {},
     "output_type": "execute_result"
    }
   ],
   "source": [
    "d.items()"
   ]
  }
 ],
 "metadata": {
  "kernelspec": {
   "display_name": "Python 3 (ipykernel)",
   "language": "python",
   "name": "python3"
  }
 },
 "nbformat": 4,
 "nbformat_minor": 4
}
