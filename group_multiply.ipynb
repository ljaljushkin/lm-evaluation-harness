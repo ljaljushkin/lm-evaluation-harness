{
 "cells": [
  {
   "cell_type": "code",
   "execution_count": 83,
   "metadata": {},
   "outputs": [
    {
     "name": "stdout",
     "output_type": "stream",
     "text": [
      "tensor([[-1.,  2.,  3.,  4.],\n",
      "        [ 5.,  6.,  7.,  8.]]) torch.Size([2, 4])\n",
      "tensor([4., 8.]) torch.Size([2])\n",
      "tensor([[-0.2500,  0.5000,  0.7500,  1.0000],\n",
      "        [ 0.6250,  0.7500,  0.8750,  1.0000]]) torch.Size([2, 4])\n"
     ]
    }
   ],
   "source": [
    "import torch\n",
    "\n",
    "w=torch.Tensor([[-1,2,3,4], [5,6, 7,8]])\n",
    "print(w, w.shape)\n",
    "s=torch.max(w, dim=1)[0]\n",
    "print(s, s.shape)\n",
    "s = s.unsqueeze(dim=1)\n",
    "scaled = w.data / s\n",
    "print(scaled, scaled.shape)"
   ]
  },
  {
   "cell_type": "code",
   "execution_count": 84,
   "metadata": {},
   "outputs": [
    {
     "data": {
      "text/plain": [
       "torch.Size([2, 1, 1])"
      ]
     },
     "execution_count": 84,
     "metadata": {},
     "output_type": "execute_result"
    }
   ],
   "source": [
    "s = s.unsqueeze(dim=1)\n",
    "s.shape\n"
   ]
  },
  {
   "cell_type": "code",
   "execution_count": 85,
   "metadata": {},
   "outputs": [
    {
     "data": {
      "text/plain": [
       "tensor([[[-0.2500,  0.5000,  0.7500,  1.0000],\n",
       "         [ 1.2500,  1.5000,  1.7500,  2.0000]],\n",
       "\n",
       "        [[-0.1250,  0.2500,  0.3750,  0.5000],\n",
       "         [ 0.6250,  0.7500,  0.8750,  1.0000]]])"
      ]
     },
     "execution_count": 85,
     "metadata": {},
     "output_type": "execute_result"
    }
   ],
   "source": [
    "w.data / s"
   ]
  },
  {
   "cell_type": "code",
   "execution_count": 86,
   "metadata": {},
   "outputs": [
    {
     "name": "stdout",
     "output_type": "stream",
     "text": [
      "tensor([[-5.0000, -4.5217, -4.0435, -3.5652, -3.0870, -2.6087],\n",
      "        [-2.1304, -1.6522, -1.1739, -0.6957, -0.2174,  0.2609],\n",
      "        [ 0.7391,  1.2174,  1.6957,  2.1739,  2.6522,  3.1304],\n",
      "        [ 3.6087,  4.0870,  4.5652,  5.0435,  5.5217,  6.0000]]) torch.Size([4, 6])\n",
      "tensor([[-2.,  2.],\n",
      "        [ 3., -3.],\n",
      "        [ 3.,  3.]]) torch.Size([3, 2])\n",
      "tensor([[-2., -2.,  2.,  2.],\n",
      "        [ 3.,  3., -3., -3.],\n",
      "        [ 3.,  3.,  3.,  3.]]) torch.Size([3, 4])\n"
     ]
    }
   ],
   "source": [
    "w=torch.linspace(-5, 6, 24).reshape(4,6)\n",
    "print(w, w.shape)\n",
    "s=torch.Tensor([-2, 2, 3, -3, 3, 3]).reshape(3, 2)\n",
    "print(s, s.shape)\n",
    "r = torch.repeat_interleave(s, 2, dim=1)\n",
    "print(r, r.shape)"
   ]
  },
  {
   "cell_type": "code",
   "execution_count": 87,
   "metadata": {},
   "outputs": [
    {
     "ename": "RuntimeError",
     "evalue": "Number of dimensions of repeat dims can not be smaller than number of dimensions of tensor",
     "output_type": "error",
     "traceback": [
      "\u001b[0;31m---------------------------------------------------------------------------\u001b[0m",
      "\u001b[0;31mRuntimeError\u001b[0m                              Traceback (most recent call last)",
      "Cell \u001b[0;32mIn[87], line 1\u001b[0m\n\u001b[0;32m----> 1\u001b[0m s\u001b[39m.\u001b[39;49mrepeat(\u001b[39m2\u001b[39;49m)\n",
      "\u001b[0;31mRuntimeError\u001b[0m: Number of dimensions of repeat dims can not be smaller than number of dimensions of tensor"
     ]
    }
   ],
   "source": [
    "\n",
    "s.repeat(2)"
   ]
  },
  {
   "cell_type": "code",
   "execution_count": null,
   "metadata": {},
   "outputs": [
    {
     "name": "stdout",
     "output_type": "stream",
     "text": [
      "tensor([[-5.0000, -4.5217, -4.0435, -3.5652, -3.0870, -2.6087],\n",
      "        [-2.1304, -1.6522, -1.1739, -0.6957, -0.2174,  0.2609],\n",
      "        [ 0.7391,  1.2174,  1.6957,  2.1739,  2.6522,  3.1304],\n",
      "        [ 3.6087,  4.0870,  4.5652,  5.0435,  5.5217,  6.0000]]) torch.Size([4, 6])\n",
      "tensor([[-5.0000, -5.0000, -5.0000, -3.5652, -3.5652, -3.5652],\n",
      "        [-2.1304, -2.1304, -2.1304, -0.6957, -0.6957, -0.6957],\n",
      "        [ 0.7391,  0.7391,  0.7391,  2.1739,  2.1739,  2.1739],\n",
      "        [ 3.6087,  3.6087,  3.6087,  5.0435,  5.0435,  5.0435]]) torch.Size([4, 6])\n",
      "tensor([[ 1.0000,  0.9043,  0.8087,  1.0000,  0.8659,  0.7317],\n",
      "        [ 1.0000,  0.7755,  0.5510,  1.0000,  0.3125, -0.3750],\n",
      "        [ 1.0000,  1.6471,  2.2941,  1.0000,  1.2200,  1.4400],\n",
      "        [ 1.0000,  1.1325,  1.2651,  1.0000,  1.0948,  1.1897]]) torch.Size([4, 6])\n"
     ]
    }
   ],
   "source": [
    "w=torch.linspace(-5, 6, 24).reshape(4,6)\n",
    "print(w, w.shape)\n",
    "s=torch.Tensor([-2, 2, 3, -3, 3, 3]).reshape(3, 2)\n",
    "print(s, s.shape)\n",
    "r = torch.repeat_interleave(s, 2, dim=1)\n",
    "\n",
    "print(w, w.shape)\n",
    "scale = []\n",
    "columns = w.shape[1]\n",
    "group_size = 3\n",
    "assert columns % group_size == 0\n",
    "for i1 in range(0, columns, group_size):\n",
    "    i2 = i1 + group_size\n",
    "    s_column = torch.min(w[:, i1:i2], dim=1)[0]\n",
    "    s_column = s_column.unsqueeze(dim=1)\n",
    "    scale.append(s_column)\n",
    "scale = torch.cat(scale, dim=1)\n",
    "scale = torch.repeat_interleave(scale, group_size, dim=1)\n",
    "print(scale, scale.shape)\n",
    "res = w/scale\n",
    "print(res, res.shape)\n",
    "\n",
    "\n"
   ]
  },
  {
   "cell_type": "code",
   "execution_count": null,
   "metadata": {},
   "outputs": [
    {
     "data": {
      "text/plain": [
       "tensor([-5.0000, -2.1304,  0.7391,  3.6087])"
      ]
     },
     "execution_count": 82,
     "metadata": {},
     "output_type": "execute_result"
    }
   ],
   "source": [
    "scale[:10,0]\n"
   ]
  },
  {
   "cell_type": "code",
   "execution_count": null,
   "metadata": {},
   "outputs": [
    {
     "name": "stdout",
     "output_type": "stream",
     "text": [
      "tensor([[-4., -4., -2., -2.],\n",
      "        [ 0.,  0.,  2.,  2.],\n",
      "        [ 4.,  4.,  6.,  6.]]) torch.Size([3, 4])\n"
     ]
    },
    {
     "data": {
      "text/plain": [
       "tensor([[1.2500, 1.0000, 1.5000, 1.0000],\n",
       "        [  -inf,    nan, 0.5000, 1.0000],\n",
       "        [0.7500, 1.0000, 0.8333, 1.0000]])"
      ]
     },
     "execution_count": 72,
     "metadata": {},
     "output_type": "execute_result"
    }
   ],
   "source": [
    "scale_r = torch.repeat_interleave(scale, 2, dim=1)\n",
    "print(scale_r, scale_r.shape)\n",
    "w/scale_r"
   ]
  },
  {
   "cell_type": "code",
   "execution_count": null,
   "metadata": {},
   "outputs": [
    {
     "data": {
      "text/plain": [
       "tensor([-4.,  0.,  4., -2.,  2.,  6.])"
      ]
     },
     "execution_count": 67,
     "metadata": {},
     "output_type": "execute_result"
    }
   ],
   "source": [
    "torch.cat(scale, dim=0)"
   ]
  }
 ],
 "metadata": {
  "kernelspec": {
   "display_name": "Python 3 (ipykernel)",
   "language": "python",
   "name": "python3"
  },
  "orig_nbformat": 4
 },
 "nbformat": 4,
 "nbformat_minor": 2
}
